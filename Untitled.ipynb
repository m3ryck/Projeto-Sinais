{
 "cells": [
  {
   "cell_type": "markdown",
   "metadata": {},
   "source": [
    "# IMPORTS"
   ]
  },
  {
   "cell_type": "code",
   "execution_count": 6,
   "metadata": {},
   "outputs": [],
   "source": [
    "import pandas as pd\n",
    "import matplotlib.pyplot as plt\n",
    "import numpy as np\n",
    "import urllib\n",
    "import scipy.io.wavfile\n",
    "import pydub\n",
    "import os, glob\n",
    "from numpy import fft as fft\n",
    "from sklearn.tree import DecisionTreeClassifier\n",
    "import librosa\n",
    "import librosa.display\n",
    "from numpy import fft as fft\n",
    "from numpy.fft import fftshift, ifft\n",
    "from numpy import real\n",
    "import numpy as np\n",
    "from scipy.signal import butter, lfilter, freqz\n",
    "import matplotlib.pyplot as plt"
   ]
  },
  {
   "cell_type": "markdown",
   "metadata": {},
   "source": [
    "# LENDO DATASET CRIADO"
   ]
  },
  {
   "cell_type": "code",
   "execution_count": null,
   "metadata": {},
   "outputs": [],
   "source": [
    "\n",
    "temp_folder=\"/home/adriano/Área de Trabalho/Treino/IRMAS-TrainingData_red/vio/\"\n",
    "\n",
    "dataset = pd.read_csv(temp_folder + 'irmas_dataframe_sinais.csv')\n",
    "dataset.drop(['Unnamed: 0'], axis = 1, inplace = True)\n",
    "\n",
    "for i in range(0,5000):\n",
    "    dataset.drop(['atr'+str(i)], axis = 1, inplace = True)\n",
    "    dataset.drop(['atr'+str(i+44999)], axis = 1, inplace = True)\n",
    "    \n",
    "\n",
    "\n",
    "X = dataset\n",
    "Y = X.iloc[:,40000]\n",
    "X = X.drop(['class'], axis = 1)\n",
    "\n",
    "\n",
    "tabela_acc=[]\n",
    "\n",
    "\n"
   ]
  },
  {
   "cell_type": "markdown",
   "metadata": {},
   "source": [
    "# MÉTODO KNN"
   ]
  },
  {
   "cell_type": "code",
   "execution_count": null,
   "metadata": {},
   "outputs": [],
   "source": [
    "\n",
    "for x in range(0,20):\n",
    "    print('=================KNN=================')\n",
    "    from sklearn.cross_validation import train_test_split\n",
    "    X_train, X_test, y_train, y_test = train_test_split(X, Y, test_size=0.1, random_state=x)\n",
    "    \n",
    "    from sklearn.preprocessing import StandardScaler\n",
    "    scaler = StandardScaler()  \n",
    "    scaler.fit(X_train)\n",
    "    #DISCRETIZAÇÃO DA DATABASE\n",
    "    X_train = scaler.transform(X_train)  \n",
    "    X_test = scaler.transform(X_test)  \n",
    "    \n",
    "    ###############################################################################\n",
    "    #                                                                             #       \n",
    "    #                               # KNN #                                       # \n",
    "    #                                                                             #           \n",
    "    ###############################################################################\n",
    "    \n",
    "    from sklearn.neighbors import KNeighborsClassifier \n",
    "     \n",
    "    classifier = KNeighborsClassifier(n_neighbors=1,\n",
    "                                      metric='euclidean',\n",
    "                                      )#, metric_params= {\"V\": 2}\n",
    "    \n",
    "    classifier.fit(X_train, y_train)  \n",
    "    \n",
    "    y_pred = classifier.predict(X_test)  \n",
    "    \n",
    "    from sklearn.metrics import classification_report, confusion_matrix, accuracy_score  \n",
    "    \n",
    "    '''\n",
    "    #MATRIZ DE CONFUSÃO\n",
    "    cm=confusion_matrix(y_test,y_pred)\n",
    "    print(cm)  \n",
    "    \n",
    "    # PRECISÃO//RECALL'SENSIBILIDADE E ESPECIFICIDADE'//F1-SCORE//SUPPORT\n",
    "    print(classification_report(y_test, y_pred))  \n",
    "    '''\n",
    "    #ACURÁCIA\n",
    "    accuracia = accuracy_score(y_test, y_pred)\n",
    "    #print('Acurácia:',accuracia)\n",
    "    \n",
    "    tabela_acc.append(0)\n",
    "    \n",
    "    tabela_acc[x] = accuracia\n",
    "\n"
   ]
  }
 ],
 "metadata": {
  "kernelspec": {
   "display_name": "Python 3",
   "language": "python",
   "name": "python3"
  },
  "language_info": {
   "codemirror_mode": {
    "name": "ipython",
    "version": 3
   },
   "file_extension": ".py",
   "mimetype": "text/x-python",
   "name": "python",
   "nbconvert_exporter": "python",
   "pygments_lexer": "ipython3",
   "version": "3.6.6"
  }
 },
 "nbformat": 4,
 "nbformat_minor": 2
}
